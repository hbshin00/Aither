{
 "cells": [
  {
   "cell_type": "code",
   "execution_count": null,
   "id": "horizontal-smith",
   "metadata": {},
   "outputs": [],
   "source": [
    "# To use this, open anaconda, then open terminal and type: pip install opencv-python\n",
    "# This program requires two files to use.\n",
    "\n",
    "# press 'q' keyboard button to stop video"
   ]
  },
  {
   "cell_type": "code",
   "execution_count": 5,
   "id": "unsigned-segment",
   "metadata": {},
   "outputs": [],
   "source": [
    "from keras.models import load_model\n",
    "from keras.preprocessing.image import img_to_array\n",
    "from keras.preprocessing import image\n",
    "import cv2\n",
    "import numpy as np"
   ]
  },
  {
   "cell_type": "code",
   "execution_count": 6,
   "id": "corresponding-closing",
   "metadata": {},
   "outputs": [],
   "source": [
    "face_classifier=cv2.CascadeClassifier('emotion_model/haarcascade_frontalface_default.xml')\n",
    "classifier = load_model('emotion_model/EmotionDetectionModel.h5')"
   ]
  },
  {
   "cell_type": "code",
   "execution_count": 7,
   "id": "controlled-switzerland",
   "metadata": {},
   "outputs": [],
   "source": [
    "class_labels=['Angry','Happy','Neutral','Sad','Surprise']\n",
    "cap=cv2.VideoCapture(0)"
   ]
  },
  {
   "cell_type": "code",
   "execution_count": 8,
   "id": "standard-governor",
   "metadata": {},
   "outputs": [],
   "source": [
    "R = 0\n",
    "G = 255\n",
    "B = 0\n",
    "while True:\n",
    "    ret,frame=cap.read()\n",
    "    labels=[]\n",
    "    gray=cv2.cvtColor(frame,cv2.COLOR_BGR2GRAY)\n",
    "    faces=face_classifier.detectMultiScale(gray,1.3,5)\n",
    "\n",
    "    for (x,y,w,h) in faces:\n",
    "        cv2.rectangle(frame,(x,y),(x+w,y+h),(B,G,R),40)\n",
    "\n",
    "\n",
    "        roi_gray=gray[y:y+h,x:x+w]\n",
    "        roi_gray=cv2.resize(roi_gray,(48,48),interpolation=cv2.INTER_AREA)\n",
    "\n",
    "        if np.sum([roi_gray])!=0:\n",
    "            roi=roi_gray.astype('float')/255.0\n",
    "            roi=img_to_array(roi)\n",
    "            roi=np.expand_dims(roi,axis=0)\n",
    "\n",
    "            preds=classifier.predict(roi)[0]\n",
    "            label=class_labels[preds.argmax()]\n",
    "            \n",
    "            if label == 'Sad':\n",
    "                R = 255\n",
    "                G = 255\n",
    "                B = 0\n",
    "            elif label == 'Angry':\n",
    "                R = 0\n",
    "                G = 0\n",
    "                B = 255\n",
    "            elif label == 'Neutral':\n",
    "                R = 0\n",
    "                G = 255\n",
    "                B = 0\n",
    "            elif label == 'Surprise':\n",
    "                R = 255\n",
    "                G = 165\n",
    "                B = 0\n",
    "            \n",
    "            label_position=(x+50,y-50)\n",
    "            cv2.putText(frame,label,label_position,cv2.FONT_HERSHEY_SIMPLEX,2,(B,G,R),3)\n",
    "        else:\n",
    "            cv2.putText(frame,'No Face Found',(20,20),cv2.FONT_HERSHEY_SIMPLEX,2,(0,255,0),3)\n",
    "    \n",
    "    cv2.imshow('Emotion Detector',frame)\n",
    "    if cv2.waitKey(1) & 0xFF == ord('q'):\n",
    "        break\n",
    "cap.release()\n",
    "cv2.destroyAllWindows()"
   ]
  }
 ],
 "metadata": {
  "kernelspec": {
   "display_name": "Python 3",
   "language": "python",
   "name": "python3"
  },
  "language_info": {
   "codemirror_mode": {
    "name": "ipython",
    "version": 3
   },
   "file_extension": ".py",
   "mimetype": "text/x-python",
   "name": "python",
   "nbconvert_exporter": "python",
   "pygments_lexer": "ipython3",
   "version": "3.8.2"
  }
 },
 "nbformat": 4,
 "nbformat_minor": 5
}
